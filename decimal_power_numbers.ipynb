{
 "cells": [
  {
   "cell_type": "code",
   "execution_count": null,
   "id": "add1c9be",
   "metadata": {},
   "outputs": [],
   "source": [
    "# Checking which numbers in an interval (a,b) are the sum of their digits,\n",
    "# where each digit is raised to the power of their decimal place.\n",
    "\n",
    "def sum_dig_pow(a, b): # range(a, b + 1) will be studied by the function\n",
    "    solutions = []\n",
    "    for x in range(a,b+1):\n",
    "        l = list(str(x))\n",
    "        m_o = map(int,l)\n",
    "        digits = list(m_o)\n",
    "        summands = []\n",
    "        summation = None\n",
    "        for power, d in enumerate(digits, start = 1):\n",
    "            summands.append(pow(d,power))\n",
    "        summation = sum(summands)\n",
    "        if summation == x:\n",
    "            solutions.append(x)\n",
    "    return solutions      "
   ]
  }
 ],
 "metadata": {
  "kernelspec": {
   "display_name": "Python 3 (ipykernel)",
   "language": "python",
   "name": "python3"
  },
  "language_info": {
   "codemirror_mode": {
    "name": "ipython",
    "version": 3
   },
   "file_extension": ".py",
   "mimetype": "text/x-python",
   "name": "python",
   "nbconvert_exporter": "python",
   "pygments_lexer": "ipython3",
   "version": "3.9.12"
  }
 },
 "nbformat": 4,
 "nbformat_minor": 5
}
