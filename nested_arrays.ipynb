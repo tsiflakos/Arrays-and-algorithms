{
 "cells": [
  {
   "cell_type": "code",
   "execution_count": null,
   "id": "68a3fa7b",
   "metadata": {},
   "outputs": [],
   "source": [
    "# A function, which returns True if its argument is an array that has the same \n",
    "# nesting structures and same corresponding length of nested arrays \n",
    "# as the first array.\n",
    "\n",
    "def same_structure_as(original,other):\n",
    "    # Exceptional case 1: Not the same type\n",
    "    if type(original) != type(other):\n",
    "        return False\n",
    "    \n",
    "    # Exceptional case 2: Remove string entries ('[',']') in original, other.\n",
    "    x = ('[',']')\n",
    "    for j in x:\n",
    "        if (j in original) or (j in other):\n",
    "            original.remove(j)\n",
    "            other.remove(j)\n",
    "    print(original)\n",
    "    \n",
    "    # Set to str in order to iterate elementwise.     \n",
    "    original = str(original)\n",
    "    other = str(other)\n",
    "\n",
    "    # Get rid of numbers.\n",
    "    original = filter(lambda x: x in ('[',']',',','\\''), original)\n",
    "    other = filter(lambda x: x in ('[',']',',','\\''), other)\n",
    "\n",
    "    # Now compare elementwise.\n",
    "    for i,j in zip(original,other):\n",
    "        if i == j:\n",
    "            continue\n",
    "        else:\n",
    "            return False            \n",
    "    return True"
   ]
  }
 ],
 "metadata": {
  "kernelspec": {
   "display_name": "Python 3 (ipykernel)",
   "language": "python",
   "name": "python3"
  },
  "language_info": {
   "codemirror_mode": {
    "name": "ipython",
    "version": 3
   },
   "file_extension": ".py",
   "mimetype": "text/x-python",
   "name": "python",
   "nbconvert_exporter": "python",
   "pygments_lexer": "ipython3",
   "version": "3.9.12"
  }
 },
 "nbformat": 4,
 "nbformat_minor": 5
}
