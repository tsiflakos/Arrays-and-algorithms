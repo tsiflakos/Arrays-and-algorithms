{
 "cells": [
  {
   "cell_type": "code",
   "execution_count": 1,
   "id": "4bee8ba3",
   "metadata": {},
   "outputs": [],
   "source": [
    "# Create (d x d)-matrices. Traverse the elements from outermost to\n",
    "# innermost, see the following image for traverse directions:\n",
    "\n",
    "# https://www.haan.lu/files/2513/8347/2456/snail.png\n",
    "\n",
    "# Create lists of arithmetic progressions for testig purposes.\n",
    "def l(d):\n",
    "    return [list(range(r*d+1,(r+1)*d+1)) for r in range(d)]\n",
    "\n",
    "# Idea is to pop entries from matrix in correct order into new list l.\n",
    "\n",
    "def snail(snail_map):\n",
    "    l = []\n",
    "    while len(snail_map) > 2:\n",
    "    # right\n",
    "        for i in range(len(snail_map[0])):\n",
    "            l.append(snail_map[0].pop(0))\n",
    "        snail_map.remove([])\n",
    "    # down  \n",
    "        for i in range(len(snail_map)):\n",
    "            l.append(snail_map[i].pop(len(snail_map[i])-1))\n",
    "    # left      \n",
    "        snail_map[len(snail_map)-1].reverse()\n",
    "        for i in range(len(snail_map[0])):\n",
    "            l.append(snail_map[len(snail_map)-1].pop(0))\n",
    "        snail_map.remove([])\n",
    "    # up\n",
    "\n",
    "        for i in range(len(snail_map)-1,-1,-1):\n",
    "            l.append(snail_map[i].pop(0))\n",
    "        \n",
    "#     Distinguish between the case when d is odd or even\n",
    "#     or when an empty list [] is given (else case).\n",
    "    if len(snail_map) == 1 and snail_map[0] != []:\n",
    "        l.append(snail_map[0].pop(0))\n",
    "        return l, len(l)\n",
    "    if len(snail_map) == 2:\n",
    "        l.extend(snail_map[0])\n",
    "        snail_map[1].reverse()\n",
    "        l.extend(snail_map[1])\n",
    "        return l, len(l)\n",
    "    else:\n",
    "        return []\n",
    "\n"
   ]
  }
 ],
 "metadata": {
  "kernelspec": {
   "display_name": "Python 3 (ipykernel)",
   "language": "python",
   "name": "python3"
  },
  "language_info": {
   "codemirror_mode": {
    "name": "ipython",
    "version": 3
   },
   "file_extension": ".py",
   "mimetype": "text/x-python",
   "name": "python",
   "nbconvert_exporter": "python",
   "pygments_lexer": "ipython3",
   "version": "3.9.12"
  }
 },
 "nbformat": 4,
 "nbformat_minor": 5
}
