{
 "cells": [
  {
   "cell_type": "code",
   "execution_count": null,
   "id": "3e76ddc0",
   "metadata": {},
   "outputs": [],
   "source": [
    "# Given an array of numbers, we are sorting all the odd numbers,\n",
    "# while leaving the even ones in place.\n",
    "\n",
    "def sort_array(source_array):\n",
    "    f_o_odd = filter(lambda x: x % 2 == 1, source_array)\n",
    "    unsorted_odds = list(f_o_odd)\n",
    "    sorted_odds = unsorted_odds.copy()\n",
    "    sorted_odds.sort()\n",
    "    odd_indicies = []\n",
    "    odd_indicies = [i for i, j in enumerate(source_array) if j % 2 == 1]\n",
    "    for i,j in zip(odd_indicies,sorted_odds):\n",
    "        source_array.pop(i)\n",
    "        source_array.insert(i,j)\n",
    "    return source_array"
   ]
  }
 ],
 "metadata": {
  "kernelspec": {
   "display_name": "Python 3 (ipykernel)",
   "language": "python",
   "name": "python3"
  },
  "language_info": {
   "codemirror_mode": {
    "name": "ipython",
    "version": 3
   },
   "file_extension": ".py",
   "mimetype": "text/x-python",
   "name": "python",
   "nbconvert_exporter": "python",
   "pygments_lexer": "ipython3",
   "version": "3.9.12"
  }
 },
 "nbformat": 4,
 "nbformat_minor": 5
}
