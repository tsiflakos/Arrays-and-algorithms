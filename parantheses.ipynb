{
 "cells": [
  {
   "cell_type": "code",
   "execution_count": null,
   "id": "178f0b82",
   "metadata": {},
   "outputs": [],
   "source": [
    "# Receive a string of parantheses and validate, whether\n",
    "# all of them open/close properly.\n",
    "\n",
    "\n",
    "def valid_parentheses(string):\n",
    "# Create a list l containing just the parentheses of variable string.\n",
    "    l = [w for w in string if w in ['(',')']]\n",
    "# Initiate counting variables for left and right parentheses in l.\n",
    "    left, right = 0, 0\n",
    "    \n",
    "# If number of parentheses in l is odd, return False.\n",
    "    if len(l) % 2 != 0:\n",
    "        return False\n",
    "# Should the number of right parentheses ')' be at any time\n",
    "# larger than the number of left parentheses '(', return False.\n",
    "# Otherwise, return True.\n",
    "    else:\n",
    "        for i in range(len(l)):\n",
    "            if l[i] in '(':\n",
    "                left += 1\n",
    "            if l[i] in ')':\n",
    "                right += 1\n",
    "            if left < right:\n",
    "                return False\n",
    "            else:\n",
    "#                 print(f'value of left: {left}, value of right: {right}')\n",
    "                continue\n",
    "\n",
    "    if left == right:\n",
    "        return True\n",
    "    else:\n",
    "        return False\n",
    "    \n"
   ]
  }
 ],
 "metadata": {
  "kernelspec": {
   "display_name": "Python 3 (ipykernel)",
   "language": "python",
   "name": "python3"
  },
  "language_info": {
   "codemirror_mode": {
    "name": "ipython",
    "version": 3
   },
   "file_extension": ".py",
   "mimetype": "text/x-python",
   "name": "python",
   "nbconvert_exporter": "python",
   "pygments_lexer": "ipython3",
   "version": "3.9.12"
  }
 },
 "nbformat": 4,
 "nbformat_minor": 5
}
