{
 "cells": [
  {
   "cell_type": "code",
   "execution_count": null,
   "id": "1f5860ef",
   "metadata": {},
   "outputs": [],
   "source": [
    "# Given an integer input interpreted as seconds, the function below\n",
    "# gives a pretty output of the form \n",
    "#     'hours : minutes : seconds'.\n",
    "\n",
    "def make_readable(sec):\n",
    "    if sec <= 359999:\n",
    "        seconds = str(int(sec % 60))\n",
    "        y = (sec - (sec % 60))/60\n",
    "        minutes = str(int(y % 60))\n",
    "        hours = str(int((y - (y % 60))/60))\n",
    "        if int(hours) in range(10):\n",
    "            hours = hours.zfill(2)\n",
    "        if int(minutes) in range(10):\n",
    "            minutes = minutes.zfill(2)\n",
    "        if int(seconds) in range(10):\n",
    "            seconds = seconds.zfill(2)\n",
    "        else:\n",
    "            pass\n",
    "        return '{}:{}:{}'.format(hours,minutes,seconds)\n",
    "    else:\n",
    "        print('Input larger than 359999. Try again')"
   ]
  }
 ],
 "metadata": {
  "kernelspec": {
   "display_name": "Python 3 (ipykernel)",
   "language": "python",
   "name": "python3"
  },
  "language_info": {
   "codemirror_mode": {
    "name": "ipython",
    "version": 3
   },
   "file_extension": ".py",
   "mimetype": "text/x-python",
   "name": "python",
   "nbconvert_exporter": "python",
   "pygments_lexer": "ipython3",
   "version": "3.9.12"
  }
 },
 "nbformat": 4,
 "nbformat_minor": 5
}
