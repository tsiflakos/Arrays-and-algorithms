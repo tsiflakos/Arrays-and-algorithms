{
 "cells": [
  {
   "cell_type": "code",
   "execution_count": null,
   "id": "a6f26467",
   "metadata": {},
   "outputs": [],
   "source": [
    "# You are given a list with all even/odd numbers except for one.\n",
    "# Below is a function which filters out this one outlier.\n",
    "\n",
    "def find_outlier(integers):\n",
    "    x,y,z = integers[0] % 2, integers[1] % 2, integers[2] % 2\n",
    "    if x+y+z in (0,1):\n",
    "        for i in integers:\n",
    "            if i % 2 == 1:\n",
    "                return i\n",
    "    else:\n",
    "        for i in integers:\n",
    "            if i % 2 == 0:\n",
    "                return i\n",
    "        "
   ]
  }
 ],
 "metadata": {
  "kernelspec": {
   "display_name": "Python 3 (ipykernel)",
   "language": "python",
   "name": "python3"
  },
  "language_info": {
   "codemirror_mode": {
    "name": "ipython",
    "version": 3
   },
   "file_extension": ".py",
   "mimetype": "text/x-python",
   "name": "python",
   "nbconvert_exporter": "python",
   "pygments_lexer": "ipython3",
   "version": "3.9.12"
  }
 },
 "nbformat": 4,
 "nbformat_minor": 5
}
